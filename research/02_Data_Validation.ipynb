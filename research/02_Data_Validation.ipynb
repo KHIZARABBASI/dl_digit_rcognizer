{
 "cells": [
  {
   "cell_type": "code",
   "execution_count": 6,
   "metadata": {},
   "outputs": [],
   "source": [
    "import os\n",
    "import numpy as np\n"
   ]
  },
  {
   "cell_type": "code",
   "execution_count": 2,
   "metadata": {},
   "outputs": [
    {
     "data": {
      "text/plain": [
       "'e:\\\\DeepLearning Projects\\\\ANN\\\\first_p\\\\Digit Recognizer\\\\research'"
      ]
     },
     "execution_count": 2,
     "metadata": {},
     "output_type": "execute_result"
    }
   ],
   "source": [
    "%pwd"
   ]
  },
  {
   "cell_type": "code",
   "execution_count": 3,
   "metadata": {},
   "outputs": [],
   "source": [
    "os.chdir('e:\\\\DeepLearning Projects\\\\ANN\\\\first_p\\\\Digit Recognizer')"
   ]
  },
  {
   "cell_type": "code",
   "execution_count": 4,
   "metadata": {},
   "outputs": [
    {
     "data": {
      "text/plain": [
       "'e:\\\\DeepLearning Projects\\\\ANN\\\\first_p\\\\Digit Recognizer'"
      ]
     },
     "execution_count": 4,
     "metadata": {},
     "output_type": "execute_result"
    }
   ],
   "source": [
    "%pwd"
   ]
  },
  {
   "cell_type": "code",
   "execution_count": 5,
   "metadata": {},
   "outputs": [],
   "source": [
    "# Data Velidatiom"
   ]
  },
  {
   "cell_type": "markdown",
   "metadata": {},
   "source": []
  },
  {
   "cell_type": "markdown",
   "metadata": {},
   "source": [
    "Data"
   ]
  },
  {
   "cell_type": "code",
   "execution_count": 15,
   "metadata": {},
   "outputs": [],
   "source": [
    "# src/Digit_Recognizer/components/data_validation.py\n",
    "import os\n",
    "import numpy as np\n",
    "\n",
    "def check_files_exist(file_paths):\n",
    "    for file in file_paths:\n",
    "        if os.path.exists(file) and os.path.getsize(file) > 0:\n",
    "            print(f\"{file} is present and non-empty.\")\n",
    "        else:\n",
    "            raise ValueError(f\"{file} is missing or empty.\")\n"
   ]
  },
  {
   "cell_type": "code",
   "execution_count": null,
   "metadata": {},
   "outputs": [
    {
     "name": "stdout",
     "output_type": "stream",
     "text": [
      "artifacts/data_ingestion/x_train.npy is present and non-empty.\n",
      "artifacts/data_ingestion/x_test.npy is present and non-empty.\n",
      "artifacts/data_ingestion/y_train.npy is present and non-empty.\n",
      "artifacts/data_ingestion/y_test.npy is present and non-empty.\n"
     ]
    }
   ],
   "source": [
    "file_paths = [\n",
    "    \"artifacts/data_ingestion/x_train.npy\",\n",
    "    \"artifacts/data_ingestion/x_test.npy\",\n",
    "    \"artifacts/data_ingestion/y_train.npy\",\n",
    "    \"artifacts/data_ingestion/y_test.npy\"\n",
    "]\n",
    "check_files_exist(file_paths)\n"
   ]
  },
  {
   "cell_type": "code",
   "execution_count": null,
   "metadata": {},
   "outputs": [],
   "source": []
  },
  {
   "cell_type": "code",
   "execution_count": 10,
   "metadata": {},
   "outputs": [],
   "source": [
    "def validate_shapes():\n",
    "    x_train = np.load(\"artifacts/data_ingestion/x_train.npy\")\n",
    "    x_test = np.load(\"artifacts/data_ingestion/x_test.npy\")\n",
    "    y_train = np.load(\"artifacts/data_ingestion/y_train.npy\")\n",
    "    y_test = np.load(\"artifacts/data_ingestion/y_test.npy\")\n",
    "\n",
    "    assert x_train.shape == (60000, 28, 28), f\"x_train shape mismatch: {x_train.shape}\"\n",
    "    assert x_test.shape == (10000, 28, 28), f\"x_test shape mismatch: {x_test.shape}\"\n",
    "    assert y_train.shape == (60000,), f\"y_train shape mismatch: {y_train.shape}\"\n",
    "    assert y_test.shape == (10000,), f\"y_test shape mismatch: {y_test.shape}\"\n",
    "\n",
    "    print(\"All data shapes are correct.\")"
   ]
  },
  {
   "cell_type": "code",
   "execution_count": 11,
   "metadata": {},
   "outputs": [],
   "source": [
    "def validate_data_values():\n",
    "    x_train = np.load(\"artifacts/data_ingestion/x_train.npy\")\n",
    "    x_test = np.load(\"artifacts/data_ingestion/x_test.npy\")\n",
    "    y_train = np.load(\"artifacts/data_ingestion/y_train.npy\")\n",
    "    y_test = np.load(\"artifacts/data_ingestion/y_test.npy\")\n",
    "\n",
    "    # Pixel values should be between 0 and 255\n",
    "    assert x_train.min() >= 0 and x_train.max() <= 255, \"x_train pixel values out of range.\"\n",
    "    assert x_test.min() >= 0 and x_test.max() <= 255, \"x_test pixel values out of range.\"\n",
    "\n",
    "    # Labels should be integers between 0 and 9\n",
    "    assert y_train.min() >= 0 and y_train.max() <= 9, \"y_train labels out of range.\"\n",
    "    assert y_test.min() >= 0 and y_test.max() <= 9, \"y_test labels out of range.\"\n",
    "\n",
    "    print(\"Data values are within expected ranges.\")\n"
   ]
  },
  {
   "cell_type": "code",
   "execution_count": 12,
   "metadata": {},
   "outputs": [],
   "source": [
    "def check_for_missing_values():\n",
    "    x_train = np.load(\"artifacts/data_ingestion/x_train.npy\")\n",
    "    x_test = np.load(\"artifacts/data_ingestion/x_test.npy\")\n",
    "    y_train = np.load(\"artifacts/data_ingestion/y_train.npy\")\n",
    "    y_test = np.load(\"artifacts/data_ingestion/y_test.npy\")\n",
    "\n",
    "    assert not np.isnan(x_train).any(), \"x_train contains NaN values.\"\n",
    "    assert not np.isnan(x_test).any(), \"x_test contains NaN values.\"\n",
    "    assert not np.isnan(y_train).any(), \"y_train contains NaN values.\"\n",
    "    assert not np.isnan(y_test).any(), \"y_test contains NaN values.\"\n",
    "\n",
    "    print(\"No missing values detected.\")\n"
   ]
  },
  {
   "cell_type": "code",
   "execution_count": 13,
   "metadata": {},
   "outputs": [],
   "source": [
    "import matplotlib.pyplot as plt\n",
    "\n",
    "def visualize_sample_images():\n",
    "    x_train = np.load(\"artifacts/data_ingestion/x_train.npy\")\n",
    "    y_train = np.load(\"artifacts/data_ingestion/y_train.npy\")\n",
    "\n",
    "    plt.figure(figsize=(10, 10))\n",
    "    for i in range(9):\n",
    "        plt.subplot(3, 3, i + 1)\n",
    "        plt.imshow(x_train[i], cmap='gray')\n",
    "        plt.title(f\"Label: {y_train[i]}\")\n",
    "        plt.axis('off')\n",
    "    plt.show()\n"
   ]
  },
  {
   "cell_type": "code",
   "execution_count": 17,
   "metadata": {},
   "outputs": [
    {
     "name": "stdout",
     "output_type": "stream",
     "text": [
      "artifacts/data_ingestion/x_train.npy is present and non-empty.\n",
      "artifacts/data_ingestion/x_test.npy is present and non-empty.\n",
      "artifacts/data_ingestion/y_train.npy is present and non-empty.\n",
      "artifacts/data_ingestion/y_test.npy is present and non-empty.\n",
      "All data shapes are correct.\n",
      "Data values are within expected ranges.\n",
      "No missing values detected.\n"
     ]
    },
    {
     "data": {
      "image/png": "[encoded data removed]",
      "text/plain": [
       "<Figure size 1000x1000 with 9 Axes>"
      ]
     },
     "metadata": {},
     "output_type": "display_data"
    },
    {
     "name": "stdout",
     "output_type": "stream",
     "text": [
      "Data validation completed successfully.\n"
     ]
    }
   ],
   "source": [
    "def validate_data():\n",
    "    # Step 1: Check files\n",
    "    file_paths = [\n",
    "        \"artifacts/data_ingestion/x_train.npy\",\n",
    "        \"artifacts/data_ingestion/x_test.npy\",\n",
    "        \"artifacts/data_ingestion/y_train.npy\",\n",
    "        \"artifacts/data_ingestion/y_test.npy\"\n",
    "    ]\n",
    "    check_files_exist(file_paths)\n",
    "\n",
    "    # Step 2: Validate shapes\n",
    "    validate_shapes()\n",
    "\n",
    "    # Step 3: Check data ranges\n",
    "    validate_data_values()\n",
    "\n",
    "    # Step 4: Check for missing values\n",
    "    check_for_missing_values()\n",
    "\n",
    "    # Optional Step 5: Visualize data samples\n",
    "    visualize_sample_images()\n",
    "\n",
    "    print(\"Data validation completed successfully.\")\n",
    "\n",
    "# Run the validation\n",
    "validate_data()\n"
   ]
  }
 ],
 "metadata": {
  "kernelspec": {
   "display_name": "Python 3",
   "language": "python",
   "name": "python3"
  },
  "language_info": {
   "codemirror_mode": {
    "name": "ipython",
    "version": 3
   },
   "file_extension": ".py",
   "mimetype": "text/x-python",
   "name": "python",
   "nbconvert_exporter": "python",
   "pygments_lexer": "ipython3",
   "version": "3.11.5"
  }
 },
 "nbformat": 4,
 "nbformat_minor": 2
}
